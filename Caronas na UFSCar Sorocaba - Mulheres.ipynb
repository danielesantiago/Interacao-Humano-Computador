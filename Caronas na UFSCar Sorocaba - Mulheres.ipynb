{
 "cells": [
  {
   "cell_type": "markdown",
   "id": "7b415f60",
   "metadata": {},
   "source": [
    "\n",
    "# Caronas na UFSCar Sorocaba - Mulheres\n",
    "\n",
    "<b>Os Objetivos de Desenvolvimento Sustentável no Brasil</b> são um apelo global à ação para acabar com a pobreza, proteger o meio ambiente e o clima e garantir que as pessoas, em todos os lugares, possam desfrutar de paz e de prosperidade. Baseado no objetivo 5, <b>alcançar a igualdade de gênero e empoderar todas as mulheres e meninas</b>, o grupo propôs a criação de um sistema de caronas focado exclusivamente em mulheres. A ideia central é que mulheres do <b>campus UFSCar Sorocaba</b> possam oferecer caronas que contenham a UFSCar como ponto no trajeto.\n"
   ]
  },
  {
   "cell_type": "markdown",
   "id": "eaba4f9d",
   "metadata": {},
   "source": [
    "<img src=\"woman.jpg\"  width=80%>"
   ]
  },
  {
   "cell_type": "markdown",
   "id": "e6edb474",
   "metadata": {},
   "source": [
    "A ideia abrange os pontos posteriormente citados, haja vista que um sistema de caronas focado exclusivamente em mulheres ajuda a eliminar formas de violência e abuso e a tecnlogia é utiliza para favorecer o empoderamento feminino.\n",
    "\n",
    "* (5.a) Realizar reformas para dar às mulheres direitos iguais aos recursos econômicos, bem como o acesso a propriedade e controle sobre a terra e outras formas de propriedade, serviços financeiros, herança e os recursos naturais, de acordo com as leis nacionais \n",
    "\n",
    "* (5.b) Aumentar o uso de tecnologias de base, em particular as tecnologias de informação e comunicação, para promover o empoderamento das mulheres\n"
   ]
  },
  {
   "cell_type": "markdown",
   "id": "5ce20bcd",
   "metadata": {},
   "source": [
    "<h2>Obtenção dos Dados</h2>\n",
    "\n",
    "Os dados foram obtidos a partir de uma pesquisa de mercado realizada com os alunos e docentes do campus."
   ]
  },
  {
   "cell_type": "code",
   "execution_count": 2,
   "id": "08a7064b",
   "metadata": {},
   "outputs": [],
   "source": [
    "# importar os pacotes necessarios\n",
    "import pandas as pd\n",
    "import matplotlib.pyplot as plt\n",
    "import seaborn as sns\n",
    "import missingno\n",
    "import numpy as np\n",
    "import folium\n",
    "\n",
    "%matplotlib inline\n",
    "# tamanho dos gráficos\n",
    "plt.rcParams[\"figure.figsize\"] = [10,5]\n",
    "# tamanho dos dados\n",
    "plt.rcParams[\"font.size\"] = 12"
   ]
  },
  {
   "cell_type": "code",
   "execution_count": 3,
   "id": "fa81f06b",
   "metadata": {},
   "outputs": [],
   "source": [
    "# importar o arquivo listings.csv para um DataFrame\n",
    "df = pd.read_csv(\"pesquisa_mercado.csv\", sep = ',')"
   ]
  },
  {
   "cell_type": "markdown",
   "id": "e84eadab",
   "metadata": {},
   "source": [
    "<h2>Análise dos Dados</h2>\n",
    "\n",
    "Esta etapa tem por objetivo criar uma consciência situacional inicial e permitir um entendimento de como os dados estão estruturados. Houveram perguntas gerais, e depois fora dado um direcionamento especifico a depender do meio de transporte utilizado pelos indivíduos.\n",
    "\n",
    "**Perguntas realizadas**\n",
    "\n",
    "* `1. Com qual gênero você se identifica?`\n",
    "* `2. Qual o município de Sorocaba ou região que você reside atualmente?`\n",
    "* `3. Com qual frequência você está na UFSCar Sorocaba?` \n",
    "* `4. Qual meio de transporte você utiliza majoritariamente para ir à UFSCar Sorocaba?` \n",
    "- Ônibus\n",
    "- Carro Próprio\n",
    "- Carona\n",
    "- Uber/Táxi\n",
    "* `5. O quão você se sente segura:` \n",
    "- Em caronas?\n",
    "- Em transporte público?\n",
    "- Em Táxi/Uber?\n",
    "- Com um motorista do gênero oposto?\n",
    "- Com um motorista do mesmo gênero?\n",
    "\n",
    "<b>Para usuários que utilizam como meio de transporte ônibus, carona ou uber/taxi, as perguntas foram:</b>\n",
    "\n",
    "* `6. Em quais condições você estaria disposta a pegar caronas com mulheres da UFSCar? Se em nenhuma condição, por quê?`\n",
    "* `7. Com que frequência você requisitaria carona?`\n",
    "- 1-2 vezes por semana\n",
    "- 3-5 vezes por semana\n",
    "- Mensalmente\n",
    "- Só em casos de emergência\n",
    "- Não requisitaria\n",
    "* `8. Ao requisitar uma carona o quão importante é`\n",
    "- Escolher o motorista?\n",
    "-  Saber previamente dados do motorista?\n",
    "- A carona ser gratuita?\n",
    "- Conversar previamente com o motorista?\n",
    "- Ter o gênero do motorista verificado?\n",
    "\n",
    "<b>Para usuários que utilizam como meio de transporte carro próprio, as perguntas foram:</b>\n",
    "\n",
    "* `6. Em que condições você estaria disposta a oferecer caronas às mulheres que frequentam a UFSCar? Se em nenhuma condição, por quê?`\n",
    "* `7. Com que frequência você ofereceria carona?`\n",
    "- 1-2 vezes por semana\n",
    "- 3-5 vezes por semana\n",
    "- Mensalmente\n",
    "- Ocasionalmente\n",
    "- Não ofereceria\n",
    "* `8. Ao oferecer uma carona o quão importante é:`\n",
    "- Saber previamente o trajeto?\n",
    "- Saber previamente dados do usuário?\n",
    "- Dividir as despesas?\n",
    "- Conversar previamente com o usuário?\n",
    "- Ter o gênero do usuário verificado?\n"
   ]
  },
  {
   "cell_type": "markdown",
   "id": "9ea7522e",
   "metadata": {},
   "source": [
    "### **Q1. Quantos atributos (variáveis) e quantas entradas o nosso conjunto de dados possui?**\n",
    "\n",
    "Vamos prosseguir e identificar a quantidade de entradas que nosso conjunto de dados possui e observar as categorias de cada coluna."
   ]
  },
  {
   "cell_type": "code",
   "execution_count": 4,
   "id": "1e0530f2",
   "metadata": {},
   "outputs": [
    {
     "name": "stdout",
     "output_type": "stream",
     "text": [
      "Entradas:  38\n",
      "Variáveis:  24\n"
     ]
    }
   ],
   "source": [
    "print(\"Entradas: \", df[df.columns[0]].count())\n",
    "print(\"Variáveis: \", df.shape[1])"
   ]
  },
  {
   "cell_type": "code",
   "execution_count": 5,
   "id": "39a553a2",
   "metadata": {
    "scrolled": true
   },
   "outputs": [
    {
     "data": {
      "text/html": [
       "<div>\n",
       "<style scoped>\n",
       "    .dataframe tbody tr th:only-of-type {\n",
       "        vertical-align: middle;\n",
       "    }\n",
       "\n",
       "    .dataframe tbody tr th {\n",
       "        vertical-align: top;\n",
       "    }\n",
       "\n",
       "    .dataframe thead th {\n",
       "        text-align: right;\n",
       "    }\n",
       "</style>\n",
       "<table border=\"1\" class=\"dataframe\">\n",
       "  <thead>\n",
       "    <tr style=\"text-align: right;\">\n",
       "      <th></th>\n",
       "      <th>Carimbo de data/hora</th>\n",
       "      <th>1. Com qual gênero você se identifica?</th>\n",
       "      <th>2. Qual o município de Sorocaba ou região que você reside atualmente?</th>\n",
       "      <th>3. Com qual frequência você está na UFSCar Sorocaba?</th>\n",
       "      <th>4. Qual meio de transporte você utiliza majoritariamente para ir à UFSCar Sorocaba?</th>\n",
       "      <th>5. O quão você se sente segura: [Em caronas?]</th>\n",
       "      <th>5. O quão você se sente segura: [Em transporte público?]</th>\n",
       "      <th>5. O quão você se sente segura: [Em Táxi/Uber?]</th>\n",
       "      <th>5. O quão você se sente segura: [Com um motorista do gênero oposto?]</th>\n",
       "      <th>5. O quão você se sente segura: [Com um motorista do mesmo gênero?]</th>\n",
       "      <th>...</th>\n",
       "      <th>8. Ao requisitar uma carona o quão importante é [A carona ser gratuita?]</th>\n",
       "      <th>8. Ao requisitar uma carona o quão importante é [Conversar previamente com o motorista?]</th>\n",
       "      <th>8. Ao requisitar uma carona o quão importante é [Ter o gênero do motorista verificado?]</th>\n",
       "      <th>6. Em que condições você estaria disposta a oferecer caronas às mulheres que frequentam a UFSCar? Se em nenhuma condição, por quê?</th>\n",
       "      <th>7. Com que frequência você ofereceria carona?</th>\n",
       "      <th>8. Ao oferecer uma carona o quão importante é: [Saber previamente o trajeto?]</th>\n",
       "      <th>8. Ao oferecer uma carona o quão importante é: [Saber previamente dados do usuário?]</th>\n",
       "      <th>8. Ao oferecer uma carona o quão importante é: [Dividir as despesas?]</th>\n",
       "      <th>8. Ao oferecer uma carona o quão importante é: [Conversar previamente com o usuário?]</th>\n",
       "      <th>8. Ao oferecer uma carona o quão importante é: [Ter o gênero do usuário verificado?]</th>\n",
       "    </tr>\n",
       "  </thead>\n",
       "  <tbody>\n",
       "    <tr>\n",
       "      <th>0</th>\n",
       "      <td>2022/07/10 12:03:29 PM GMT-3</td>\n",
       "      <td>Masculino</td>\n",
       "      <td>Sorocaba</td>\n",
       "      <td>1 - 2 vezes por semana</td>\n",
       "      <td>Carona</td>\n",
       "      <td>Muito segura</td>\n",
       "      <td>Razoavelmente segura</td>\n",
       "      <td>Muito segura</td>\n",
       "      <td>Muito segura</td>\n",
       "      <td>Muito segura</td>\n",
       "      <td>...</td>\n",
       "      <td>Pouco importante</td>\n",
       "      <td>Razoavelmente importante</td>\n",
       "      <td>Razoavelmente importante</td>\n",
       "      <td>NaN</td>\n",
       "      <td>NaN</td>\n",
       "      <td>NaN</td>\n",
       "      <td>NaN</td>\n",
       "      <td>NaN</td>\n",
       "      <td>NaN</td>\n",
       "      <td>NaN</td>\n",
       "    </tr>\n",
       "    <tr>\n",
       "      <th>1</th>\n",
       "      <td>2022/07/10 12:04:15 PM GMT-3</td>\n",
       "      <td>Feminino</td>\n",
       "      <td>Votorantim</td>\n",
       "      <td>3 - 5 vezes por semana</td>\n",
       "      <td>Carona</td>\n",
       "      <td>Razoavelmente segura</td>\n",
       "      <td>Razoavelmente segura</td>\n",
       "      <td>Razoavelmente segura</td>\n",
       "      <td>Razoavelmente segura</td>\n",
       "      <td>Muito segura</td>\n",
       "      <td>...</td>\n",
       "      <td>Razoavelmente importante</td>\n",
       "      <td>Muito importante</td>\n",
       "      <td>Muito importante</td>\n",
       "      <td>NaN</td>\n",
       "      <td>NaN</td>\n",
       "      <td>NaN</td>\n",
       "      <td>NaN</td>\n",
       "      <td>NaN</td>\n",
       "      <td>NaN</td>\n",
       "      <td>NaN</td>\n",
       "    </tr>\n",
       "    <tr>\n",
       "      <th>2</th>\n",
       "      <td>2022/07/10 12:05:00 PM GMT-3</td>\n",
       "      <td>Masculino</td>\n",
       "      <td>Sorocaba</td>\n",
       "      <td>3 - 5 vezes por semana</td>\n",
       "      <td>Ônibus</td>\n",
       "      <td>Razoavelmente segura</td>\n",
       "      <td>Muito segura</td>\n",
       "      <td>Razoavelmente segura</td>\n",
       "      <td>Muito segura</td>\n",
       "      <td>Razoavelmente segura</td>\n",
       "      <td>...</td>\n",
       "      <td>Razoavelmente importante</td>\n",
       "      <td>Nada importante</td>\n",
       "      <td>Muito importante</td>\n",
       "      <td>NaN</td>\n",
       "      <td>NaN</td>\n",
       "      <td>NaN</td>\n",
       "      <td>NaN</td>\n",
       "      <td>NaN</td>\n",
       "      <td>NaN</td>\n",
       "      <td>NaN</td>\n",
       "    </tr>\n",
       "    <tr>\n",
       "      <th>3</th>\n",
       "      <td>2022/07/10 12:05:10 PM GMT-3</td>\n",
       "      <td>Feminino</td>\n",
       "      <td>Sorocaba</td>\n",
       "      <td>3 - 5 vezes por semana</td>\n",
       "      <td>Ônibus</td>\n",
       "      <td>Pouco segura</td>\n",
       "      <td>Muito segura</td>\n",
       "      <td>Razoavelmente segura</td>\n",
       "      <td>Nada segura</td>\n",
       "      <td>Razoavelmente segura</td>\n",
       "      <td>...</td>\n",
       "      <td>Pouco importante</td>\n",
       "      <td>Muito importante</td>\n",
       "      <td>Muito importante</td>\n",
       "      <td>NaN</td>\n",
       "      <td>NaN</td>\n",
       "      <td>NaN</td>\n",
       "      <td>NaN</td>\n",
       "      <td>NaN</td>\n",
       "      <td>NaN</td>\n",
       "      <td>NaN</td>\n",
       "    </tr>\n",
       "    <tr>\n",
       "      <th>4</th>\n",
       "      <td>2022/07/10 12:07:00 PM GMT-3</td>\n",
       "      <td>Masculino</td>\n",
       "      <td>Sorocaba</td>\n",
       "      <td>3 - 5 vezes por semana</td>\n",
       "      <td>Ônibus</td>\n",
       "      <td>Razoavelmente segura</td>\n",
       "      <td>Muito segura</td>\n",
       "      <td>Razoavelmente segura</td>\n",
       "      <td>Razoavelmente segura</td>\n",
       "      <td>Razoavelmente segura</td>\n",
       "      <td>...</td>\n",
       "      <td>Nada importante</td>\n",
       "      <td>Razoavelmente importante</td>\n",
       "      <td>Pouco importante</td>\n",
       "      <td>NaN</td>\n",
       "      <td>NaN</td>\n",
       "      <td>NaN</td>\n",
       "      <td>NaN</td>\n",
       "      <td>NaN</td>\n",
       "      <td>NaN</td>\n",
       "      <td>NaN</td>\n",
       "    </tr>\n",
       "  </tbody>\n",
       "</table>\n",
       "<p>5 rows × 24 columns</p>\n",
       "</div>"
      ],
      "text/plain": [
       "           Carimbo de data/hora 1. Com qual gênero você se identifica?  \\\n",
       "0  2022/07/10 12:03:29 PM GMT-3                              Masculino   \n",
       "1  2022/07/10 12:04:15 PM GMT-3                               Feminino   \n",
       "2  2022/07/10 12:05:00 PM GMT-3                              Masculino   \n",
       "3  2022/07/10 12:05:10 PM GMT-3                               Feminino   \n",
       "4  2022/07/10 12:07:00 PM GMT-3                              Masculino   \n",
       "\n",
       "  2. Qual o município de Sorocaba ou região que você reside atualmente?  \\\n",
       "0                                           Sorocaba                      \n",
       "1                                         Votorantim                      \n",
       "2                                           Sorocaba                      \n",
       "3                                           Sorocaba                      \n",
       "4                                           Sorocaba                      \n",
       "\n",
       "  3. Com qual frequência você está na UFSCar Sorocaba?  \\\n",
       "0                             1 - 2 vezes por semana     \n",
       "1                             3 - 5 vezes por semana     \n",
       "2                             3 - 5 vezes por semana     \n",
       "3                             3 - 5 vezes por semana     \n",
       "4                             3 - 5 vezes por semana     \n",
       "\n",
       "  4. Qual meio de transporte você utiliza majoritariamente para ir à UFSCar Sorocaba?  \\\n",
       "0                                             Carona                                    \n",
       "1                                             Carona                                    \n",
       "2                                             Ônibus                                    \n",
       "3                                             Ônibus                                    \n",
       "4                                             Ônibus                                    \n",
       "\n",
       "  5. O quão você se sente segura: [Em caronas?]  \\\n",
       "0                                  Muito segura   \n",
       "1                          Razoavelmente segura   \n",
       "2                          Razoavelmente segura   \n",
       "3                                  Pouco segura   \n",
       "4                          Razoavelmente segura   \n",
       "\n",
       "  5. O quão você se sente segura: [Em transporte público?]  \\\n",
       "0                               Razoavelmente segura         \n",
       "1                               Razoavelmente segura         \n",
       "2                                       Muito segura         \n",
       "3                                       Muito segura         \n",
       "4                                       Muito segura         \n",
       "\n",
       "  5. O quão você se sente segura: [Em Táxi/Uber?]  \\\n",
       "0                                    Muito segura   \n",
       "1                            Razoavelmente segura   \n",
       "2                            Razoavelmente segura   \n",
       "3                            Razoavelmente segura   \n",
       "4                            Razoavelmente segura   \n",
       "\n",
       "  5. O quão você se sente segura: [Com um motorista do gênero oposto?]  \\\n",
       "0                                       Muito segura                     \n",
       "1                               Razoavelmente segura                     \n",
       "2                                       Muito segura                     \n",
       "3                                        Nada segura                     \n",
       "4                               Razoavelmente segura                     \n",
       "\n",
       "  5. O quão você se sente segura: [Com um motorista do mesmo gênero?]  ...  \\\n",
       "0                                       Muito segura                   ...   \n",
       "1                                       Muito segura                   ...   \n",
       "2                               Razoavelmente segura                   ...   \n",
       "3                               Razoavelmente segura                   ...   \n",
       "4                               Razoavelmente segura                   ...   \n",
       "\n",
       "  8. Ao requisitar uma carona o quão importante é [A carona ser gratuita?]  \\\n",
       "0                                   Pouco importante                         \n",
       "1                           Razoavelmente importante                         \n",
       "2                           Razoavelmente importante                         \n",
       "3                                   Pouco importante                         \n",
       "4                                    Nada importante                         \n",
       "\n",
       "  8. Ao requisitar uma carona o quão importante é [Conversar previamente com o motorista?]  \\\n",
       "0                           Razoavelmente importante                                         \n",
       "1                                   Muito importante                                         \n",
       "2                                    Nada importante                                         \n",
       "3                                   Muito importante                                         \n",
       "4                           Razoavelmente importante                                         \n",
       "\n",
       "  8. Ao requisitar uma carona o quão importante é [Ter o gênero do motorista verificado?]  \\\n",
       "0                           Razoavelmente importante                                        \n",
       "1                                   Muito importante                                        \n",
       "2                                   Muito importante                                        \n",
       "3                                   Muito importante                                        \n",
       "4                                   Pouco importante                                        \n",
       "\n",
       "  6. Em que condições você estaria disposta a oferecer caronas às mulheres que frequentam a UFSCar? Se em nenhuma condição, por quê?  \\\n",
       "0                                                NaN                                                                                   \n",
       "1                                                NaN                                                                                   \n",
       "2                                                NaN                                                                                   \n",
       "3                                                NaN                                                                                   \n",
       "4                                                NaN                                                                                   \n",
       "\n",
       "  7. Com que frequência você ofereceria carona?  \\\n",
       "0                                           NaN   \n",
       "1                                           NaN   \n",
       "2                                           NaN   \n",
       "3                                           NaN   \n",
       "4                                           NaN   \n",
       "\n",
       "  8. Ao oferecer uma carona o quão importante é: [Saber previamente o trajeto?]  \\\n",
       "0                                                NaN                              \n",
       "1                                                NaN                              \n",
       "2                                                NaN                              \n",
       "3                                                NaN                              \n",
       "4                                                NaN                              \n",
       "\n",
       "  8. Ao oferecer uma carona o quão importante é: [Saber previamente dados do usuário?]  \\\n",
       "0                                                NaN                                     \n",
       "1                                                NaN                                     \n",
       "2                                                NaN                                     \n",
       "3                                                NaN                                     \n",
       "4                                                NaN                                     \n",
       "\n",
       "  8. Ao oferecer uma carona o quão importante é: [Dividir as despesas?]  \\\n",
       "0                                                NaN                      \n",
       "1                                                NaN                      \n",
       "2                                                NaN                      \n",
       "3                                                NaN                      \n",
       "4                                                NaN                      \n",
       "\n",
       "  8. Ao oferecer uma carona o quão importante é: [Conversar previamente com o usuário?]  \\\n",
       "0                                                NaN                                      \n",
       "1                                                NaN                                      \n",
       "2                                                NaN                                      \n",
       "3                                                NaN                                      \n",
       "4                                                NaN                                      \n",
       "\n",
       "  8. Ao oferecer uma carona o quão importante é: [Ter o gênero do usuário verificado?]  \n",
       "0                                                NaN                                    \n",
       "1                                                NaN                                    \n",
       "2                                                NaN                                    \n",
       "3                                                NaN                                    \n",
       "4                                                NaN                                    \n",
       "\n",
       "[5 rows x 24 columns]"
      ]
     },
     "execution_count": 5,
     "metadata": {},
     "output_type": "execute_result"
    }
   ],
   "source": [
    "# verificar as 5 primeiras entradas do dataset\n",
    "df.head()"
   ]
  },
  {
   "cell_type": "markdown",
   "id": "0680ef76",
   "metadata": {},
   "source": [
    "De início, podemos observar que alguns indíviduos do gênero masculino responderam a pesquisa, logo precisamos realizar uma limpeza nos dados para analisar somente o público alvo. A seguir, veremos a quantidade de pessoas de cada gênero que responderam a pesquisa."
   ]
  },
  {
   "cell_type": "code",
   "execution_count": 6,
   "id": "8cc755e9",
   "metadata": {
    "scrolled": false
   },
   "outputs": [
    {
     "data": {
      "text/plain": [
       "Feminino     55.0\n",
       "Masculino    45.0\n",
       "Name: 1. Com qual gênero você se identifica?, dtype: float64"
      ]
     },
     "execution_count": 6,
     "metadata": {},
     "output_type": "execute_result"
    }
   ],
   "source": [
    "# verifica porcentagem de cada gênero\n",
    "round(df['1. Com qual gênero você se identifica?'].value_counts()/df.shape[0],2) * 100"
   ]
  },
  {
   "cell_type": "markdown",
   "id": "0f916a3b",
   "metadata": {},
   "source": [
    "Agora limparemos os dados para manter apenas pessoas que se identificam com o gênero feminino."
   ]
  },
  {
   "cell_type": "code",
   "execution_count": 7,
   "id": "99790cde",
   "metadata": {},
   "outputs": [],
   "source": [
    "# realiza limpeza de dados\n",
    "df_fem = df.loc[df['1. Com qual gênero você se identifica?'] == 'Feminino']"
   ]
  },
  {
   "cell_type": "markdown",
   "id": "8a0bb212",
   "metadata": {},
   "source": [
    "Por fim, observaremos novamente a porcentagem de cada gênero."
   ]
  },
  {
   "cell_type": "code",
   "execution_count": 8,
   "id": "53cde27e",
   "metadata": {
    "scrolled": true
   },
   "outputs": [
    {
     "data": {
      "text/plain": [
       "Feminino    100.0\n",
       "Name: 1. Com qual gênero você se identifica?, dtype: float64"
      ]
     },
     "execution_count": 8,
     "metadata": {},
     "output_type": "execute_result"
    }
   ],
   "source": [
    "# verifica porcentagem de cada gênero\n",
    "round(df_fem['1. Com qual gênero você se identifica?'].value_counts()/df_fem.shape[0],2) * 100"
   ]
  },
  {
   "cell_type": "code",
   "execution_count": 9,
   "id": "805f4142",
   "metadata": {},
   "outputs": [
    {
     "data": {
      "text/plain": [
       "21"
      ]
     },
     "execution_count": 9,
     "metadata": {},
     "output_type": "execute_result"
    }
   ],
   "source": [
    "# ver quantidade de respostas totais pós limpeza\n",
    "df_fem.shape[0]"
   ]
  },
  {
   "cell_type": "markdown",
   "id": "fd63295b",
   "metadata": {},
   "source": [
    "### Q2. Em qual municipio há mais mulheres? "
   ]
  },
  {
   "cell_type": "markdown",
   "id": "d428810f",
   "metadata": {},
   "source": [
    "Podemos observar que:\n",
    "<ul>\n",
    "    <li> De modo geral, mais de 70% das mulheres que responderam o questionário vivem em Sorocaba.</li>\n",
    "    <li> 60% das mulheres que possuem veículo próprio vivem em Votorantim.</li>\n",
    "    <li> Mais de 80% das mulheres que não possuem veículo próprio vivem em Sorocaba.</li>\n",
    "</ul>"
   ]
  },
  {
   "cell_type": "code",
   "execution_count": 32,
   "id": "05f3c7e5",
   "metadata": {},
   "outputs": [
    {
     "data": {
      "image/png": "[encoded data removed]",
      "text/plain": [
       "<Figure size 720x360 with 1 Axes>"
      ]
     },
     "metadata": {},
     "output_type": "display_data"
    }
   ],
   "source": [
    "# Plotando gráficos para questão 2\n",
    "fig, ax = plt.subplots()\n",
    "\n",
    "# definir informações iniciais referentes à coloração\n",
    "sns.set(style=\"whitegrid\", color_codes=True)\n",
    "data = df_fem.groupby(\"2. Qual o município de Sorocaba ou região que você reside atualmente?\").size() \n",
    "pal = sns.color_palette(\"rocket\", len(data))\n",
    "rank = data.argsort().argsort() \n",
    "ax.grid(False)\n",
    "\n",
    "# gráfico da quantidade de pessoas por município\n",
    "ax2 = sns.barplot(x= df_fem['2. Qual o município de Sorocaba ou região que você reside atualmente?'].value_counts().values/df_fem.shape[0] * 100, y= df_fem['2. Qual o município de Sorocaba ou região que você reside atualmente?'].value_counts().index, palette=np.array(pal[::-1])[rank], ax = ax)\n",
    "ax2.set_xlabel('Porcentagem de Pessoas')\n",
    "ax2.set_ylabel('Municípios')\n",
    "ax2.set_title(\"Gráfico (Municípios x Porcentagem de Pessoas)\");"
   ]
  },
  {
   "cell_type": "code",
   "execution_count": 33,
   "id": "9b432b92",
   "metadata": {
    "scrolled": true
   },
   "outputs": [
    {
     "data": {
      "image/png": "[encoded data removed]",
      "text/plain": [
       "<Figure size 720x360 with 1 Axes>"
      ]
     },
     "metadata": {},
     "output_type": "display_data"
    }
   ],
   "source": [
    "# Plotando gráficos para questão 2\n",
    "fig, ax = plt.subplots()\n",
    "\n",
    "df_copia = df_fem.copy()\n",
    "\n",
    "# mulheres que possuem veículo próprio\n",
    "df_copia = df_copia.loc[df_copia['4. Qual meio de transporte você utiliza majoritariamente para ir à UFSCar Sorocaba?'] == 'Carro Próprio']\n",
    "\n",
    "# definir informações iniciais referentes à coloração\n",
    "sns.set(style=\"whitegrid\", color_codes=True)\n",
    "data = df_copia.groupby(\"2. Qual o município de Sorocaba ou região que você reside atualmente?\").size() \n",
    "pal = sns.color_palette(\"rocket\", len(data))\n",
    "rank = data.argsort().argsort() \n",
    "ax.grid(False)\n",
    "\n",
    "# gráfico da quantidade de pessoas por município\n",
    "ax2 = sns.barplot(x= df_copia['2. Qual o município de Sorocaba ou região que você reside atualmente?'].value_counts().values/df_copia.shape[0] * 100, y= df_copia['2. Qual o município de Sorocaba ou região que você reside atualmente?'].value_counts().index, palette=np.array(pal[::-1])[rank], ax = ax)\n",
    "ax2.set_xlabel('Porcentagem de Pessoas')\n",
    "ax2.set_ylabel('Municípios')\n",
    "ax2.set_title(\"Gráfico (Municípios x Porcentagem de Pessoas) - Mulheres com veículo próprio\");"
   ]
  },
  {
   "cell_type": "code",
   "execution_count": 34,
   "id": "884f4e00",
   "metadata": {
    "scrolled": true
   },
   "outputs": [
    {
     "data": {
      "image/png": "[encoded data removed]",
      "text/plain": [
       "<Figure size 720x360 with 1 Axes>"
      ]
     },
     "metadata": {},
     "output_type": "display_data"
    }
   ],
   "source": [
    "# Plotando gráficos para questão 2\n",
    "fig, ax = plt.subplots()\n",
    "\n",
    "df_copia = df_fem.copy()\n",
    "\n",
    "# mulheres que não possum veículo próprio\n",
    "df_copia = df_copia.loc[df_copia['4. Qual meio de transporte você utiliza majoritariamente para ir à UFSCar Sorocaba?'] != 'Carro Próprio']\n",
    "\n",
    "# definir informações iniciais referentes à coloração\n",
    "sns.set(style=\"whitegrid\", color_codes=True)\n",
    "data = df_copia.groupby(\"2. Qual o município de Sorocaba ou região que você reside atualmente?\").size() \n",
    "pal = sns.color_palette(\"rocket\", len(data))\n",
    "rank = data.argsort().argsort() \n",
    "ax.grid(False)\n",
    "\n",
    "# gráfico da quantidade de pessoas por município\n",
    "ax2 = sns.barplot(x= df_copia['2. Qual o município de Sorocaba ou região que você reside atualmente?'].value_counts().values/df_copia.shape[0] * 100, y= df_copia['2. Qual o município de Sorocaba ou região que você reside atualmente?'].value_counts().index, palette=np.array(pal[::-1])[rank], ax = ax)\n",
    "ax2.set_xlabel('Porcentagem de Pessoas')\n",
    "ax2.set_ylabel('Municípios')\n",
    "ax2.set_title(\"Gráfico (Municípios x Porcentagem de Pessoas) - Mulheres sem veículo próprio\");"
   ]
  },
  {
   "cell_type": "markdown",
   "id": "67c7db8c",
   "metadata": {},
   "source": [
    "### Q3. Com qual frequência, as mulheres estão na UFSCar Sorocaba?"
   ]
  },
  {
   "cell_type": "markdown",
   "id": "2ccb99c4",
   "metadata": {},
   "source": [
    "Podemos perceber que de modo geral, mais de 95% das mulheres estão presentes na UFSCar de 3 a 5 vezes por semana."
   ]
  },
  {
   "cell_type": "code",
   "execution_count": 26,
   "id": "bb0ea7ed",
   "metadata": {
    "scrolled": true
   },
   "outputs": [
    {
     "data": {
      "text/plain": [
       "3 - 5 vezes por semana    95.238095\n",
       "1 - 2 vezes por semana     4.761905\n",
       "Name: 3. Com qual frequência você está na UFSCar Sorocaba?, dtype: float64"
      ]
     },
     "execution_count": 26,
     "metadata": {},
     "output_type": "execute_result"
    }
   ],
   "source": [
    "df_fem['3. Com qual frequência você está na UFSCar Sorocaba?'].value_counts()/df_fem.shape[0] * 100"
   ]
  },
  {
   "cell_type": "markdown",
   "id": "1fcfc37d",
   "metadata": {},
   "source": [
    "Quando restrigimos os dados para as mulheres que possuem carro próprio, 80% está presente de 3 a 5 vezes por semana"
   ]
  },
  {
   "cell_type": "code",
   "execution_count": 27,
   "id": "f93683eb",
   "metadata": {},
   "outputs": [
    {
     "data": {
      "text/plain": [
       "3 - 5 vezes por semana    80.0\n",
       "1 - 2 vezes por semana    20.0\n",
       "Name: 3. Com qual frequência você está na UFSCar Sorocaba?, dtype: float64"
      ]
     },
     "execution_count": 27,
     "metadata": {},
     "output_type": "execute_result"
    }
   ],
   "source": [
    "df_copia = df_fem.copy()\n",
    "# mulheres que possuem veículo próprio\n",
    "df_copia = df_copia.loc[df_copia['4. Qual meio de transporte você utiliza majoritariamente para ir à UFSCar Sorocaba?'] == 'Carro Próprio']\n",
    "df_copia['3. Com qual frequência você está na UFSCar Sorocaba?'].value_counts()/df_copia.shape[0] * 100"
   ]
  },
  {
   "cell_type": "markdown",
   "id": "edf9a5bc",
   "metadata": {},
   "source": [
    "Já para as mulheres que não possuem veículo próprio, 100% está presente no campus de 3 a 5 vezes durante a semana"
   ]
  },
  {
   "cell_type": "code",
   "execution_count": 28,
   "id": "f91fe25e",
   "metadata": {},
   "outputs": [
    {
     "data": {
      "text/plain": [
       "3 - 5 vezes por semana    100.0\n",
       "Name: 3. Com qual frequência você está na UFSCar Sorocaba?, dtype: float64"
      ]
     },
     "execution_count": 28,
     "metadata": {},
     "output_type": "execute_result"
    }
   ],
   "source": [
    "df_copia = df_fem.copy()\n",
    "# mulheres que não possuem veículo próprio\n",
    "df_copia = df_copia.loc[df_copia['4. Qual meio de transporte você utiliza majoritariamente para ir à UFSCar Sorocaba?'] != 'Carro Próprio']\n",
    "df_copia['3. Com qual frequência você está na UFSCar Sorocaba?'].value_counts()/df_copia.shape[0] * 100"
   ]
  },
  {
   "cell_type": "markdown",
   "id": "13b39762",
   "metadata": {},
   "source": [
    "### Q4. Qual o meio de transporte mais utilizado para ir à UFSCar?"
   ]
  },
  {
   "cell_type": "markdown",
   "id": "d56f08cf",
   "metadata": {},
   "source": [
    "Pode-se notar que mais de 60% das mulheres utilizam ônibus como meio de transporte, enquanto mais de 20% possui carro próprio."
   ]
  },
  {
   "cell_type": "code",
   "execution_count": 38,
   "id": "c5590205",
   "metadata": {},
   "outputs": [
    {
     "data": {
      "text/plain": [
       "Ônibus           66.666667\n",
       "Carro Próprio    23.809524\n",
       "Carona            4.761905\n",
       "Uber/Táxi         4.761905\n",
       "Name: 4. Qual meio de transporte você utiliza majoritariamente para ir à UFSCar Sorocaba?, dtype: float64"
      ]
     },
     "execution_count": 38,
     "metadata": {},
     "output_type": "execute_result"
    }
   ],
   "source": [
    "df_fem['4. Qual meio de transporte você utiliza majoritariamente para ir à UFSCar Sorocaba?'].value_counts()/df_fem.shape[0] * 100"
   ]
  },
  {
   "cell_type": "code",
   "execution_count": 36,
   "id": "edbdbd27",
   "metadata": {
    "scrolled": true
   },
   "outputs": [
    {
     "data": {
      "image/png": "[encoded data removed]",
      "text/plain": [
       "<Figure size 720x360 with 1 Axes>"
      ]
     },
     "metadata": {},
     "output_type": "display_data"
    }
   ],
   "source": [
    "# Plotando gráficos para questão 2\n",
    "fig, ax = plt.subplots()\n",
    "\n",
    "# definir informações iniciais referentes à coloração\n",
    "sns.set(style=\"whitegrid\", color_codes=True)\n",
    "data = df_fem.groupby(\"4. Qual meio de transporte você utiliza majoritariamente para ir à UFSCar Sorocaba?\").size() \n",
    "pal = sns.color_palette(\"rocket\", len(data))\n",
    "rank = data.argsort().argsort() \n",
    "ax.grid(False)\n",
    "\n",
    "# gráfico da quantidade de pessoas por município\n",
    "ax2 = sns.barplot(x= df_fem['4. Qual meio de transporte você utiliza majoritariamente para ir à UFSCar Sorocaba?'].value_counts().values/df_fem.shape[0] * 100, y= df_fem['4. Qual meio de transporte você utiliza majoritariamente para ir à UFSCar Sorocaba?'].value_counts().index, palette=np.array(pal[::-1])[rank], ax = ax)\n",
    "ax2.set_xlabel('Porcentagem de Pessoas')\n",
    "ax2.set_ylabel('Meio de transporte')\n",
    "ax2.set_title(\"Gráfico (Meio de transporte x Porcentagem de Pessoas)\");"
   ]
  },
  {
   "cell_type": "markdown",
   "id": "b808cf8a",
   "metadata": {},
   "source": [
    "### Q5. Quão seguras as mulheres se sentem em diversas situações?"
   ]
  },
  {
   "cell_type": "code",
   "execution_count": 72,
   "id": "64b0af03",
   "metadata": {},
   "outputs": [
    {
     "data": {
      "image/png": "[encoded data removed]",
      "text/plain": [
       "<Figure size 864x1080 with 5 Axes>"
      ]
     },
     "metadata": {},
     "output_type": "display_data"
    }
   ],
   "source": [
    "# plotar gráficos para as informações obtidas\n",
    " \n",
    "fig, ax= plt.subplots(3, 2,figsize=(12, 15))\n",
    "fig.delaxes(ax[2,1])\n",
    "fig = plt.subplots_adjust(wspace= 0.5)\n",
    "\n",
    "# define informações iniciais referentes à coloração\n",
    "sns.set(style=\"whitegrid\", color_codes=True)\n",
    "data = df_fem.groupby(\"5. O quão você se sente segura: [Em caronas?]\").size() \n",
    "pal = sns.color_palette(\"rocket\", len(data))\n",
    "rank = data.argsort().argsort() \n",
    "ax[0,0].grid(False)\n",
    "ax[0,1].grid(False)\n",
    "ax[1,0].grid(False)\n",
    "ax[1,1].grid(False)\n",
    "ax[2,0].grid(False)\n",
    "\n",
    "# Caronas\n",
    "ax2 = sns.barplot(x= df_fem['5. O quão você se sente segura: [Em caronas?]'].value_counts().values/df_fem.shape[0] * 100, y= df_fem['5. O quão você se sente segura: [Em caronas?]'].value_counts().index, palette=np.array(pal[::-1])[rank], order = df_fem['5. O quão você se sente segura: [Em caronas?]'].value_counts().sort_values(ascending = False).index , ax = ax[0,0])\n",
    "ax2.set_title(\"Em caronas?\");\n",
    "\n",
    "# Transporte Público\n",
    "ax2 = sns.barplot(x= df_fem['5. O quão você se sente segura: [Em transporte público?]'].value_counts().values/df_fem.shape[0] * 100, y= df_fem['5. O quão você se sente segura: [Em transporte público?]'].value_counts().sort_values(ascending = False).index , ax = ax[0,1], palette=np.array(pal[::-1])[rank])\n",
    "ax2.set_title(\"Em transporte público?\");\n",
    "\n",
    "# Taxi/Uber\n",
    "ax2 = sns.barplot(x= df_fem['5. O quão você se sente segura: [Em Táxi/Uber?]'].value_counts().values/df_fem.shape[0] * 100, y= df_fem['5. O quão você se sente segura: [Em Táxi/Uber?]'].value_counts().sort_values(ascending = False).index , ax = ax[1,0], palette=np.array(pal[::-1])[rank])\n",
    "ax2.set_title(\"Em táxi/uber?\");\n",
    "    \n",
    "# Motorista do gênero oposto\n",
    "ax2 = sns.barplot(x= df_fem['5. O quão você se sente segura: [Com um motorista do gênero oposto?]'].value_counts().values/df_fem.shape[0] * 100, y= df_fem['5. O quão você se sente segura: [Com um motorista do gênero oposto?]'].value_counts().sort_values(ascending = False).index , ax = ax[1,1], palette=np.array(pal[::-1])[rank])\n",
    "ax2.set_title(\"Com um motorista do gênero oposto?\");\n",
    "\n",
    "# Motorista do mesmo gênero\n",
    "ax2 = sns.barplot(x= df_fem['5. O quão você se sente segura: [Com um motorista do mesmo gênero?]'].value_counts().values/df_fem.shape[0] * 100, y= df_fem['5. O quão você se sente segura: [Com um motorista do mesmo gênero?]'].value_counts().sort_values(ascending = False).index , ax = ax[2,0], palette=np.array(pal[::-1])[rank])\n",
    "ax2.set_title(\"Com um motorista do mesmo gênero?\");\n",
    "\n"
   ]
  },
  {
   "cell_type": "markdown",
   "id": "9e79aae7",
   "metadata": {},
   "source": [
    "## Conclusões"
   ]
  },
  {
   "cell_type": "markdown",
   "id": "0739dc0f",
   "metadata": {},
   "source": [
    "Com base na análise explicitada previamente, constatamos a presença de <b>dados ausentes e outliers</b>, o que nos indica que mesmo uma base relativamente pequena demanda o processo de analisar a qualidade de dados para <b>aprovar/rejeitar</b> as sugestões propostas pelo sistema, bem como necessidade de alteração para obter um dataset mais fidedigno à realidade.\n",
    "\n",
    "Também observamos que os habitantes de Hong Kong indicam-nos um padrão interessante em relação às escolhas do AirBnb, pois mais de <b>50% dos usuários</b> analisados ofertam para alugar <b>quartos privados</b>, enquanto <b>somente 1% oferta hotéis</b>.  O número mínimo de noites alugadas observado foi um, enquanto sua média varia em aproximadamente 15 dias. Ademais, o menor preço observado foi 61 HKD no North District, cujo é o segundo menor em relação à densidade populacional. Já o maior preço observado foi 1442 HKD no distrito de Yau Tsim Mong, que de maneira inversamente proporcional, possui a segunda maior densidade populacional da região.\n",
    "\n",
    "Por fim, lembramos que a base utilizada nessa análise é uma <b>versão resumida</b>, ideal para o que foi proposto nesse projeto de uma abordagem inicial. Para um estudo mais aprofundado é recomendado que seja utilizado a versão completa, contendo 106 atributos."
   ]
  }
 ],
 "metadata": {
  "kernelspec": {
   "display_name": "Python 3",
   "language": "python",
   "name": "python3"
  },
  "language_info": {
   "codemirror_mode": {
    "name": "ipython",
    "version": 3
   },
   "file_extension": ".py",
   "mimetype": "text/x-python",
   "name": "python",
   "nbconvert_exporter": "python",
   "pygments_lexer": "ipython3",
   "version": "3.8.8"
  }
 },
 "nbformat": 4,
 "nbformat_minor": 5
}
